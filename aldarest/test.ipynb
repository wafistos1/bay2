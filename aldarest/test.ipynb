{
 "cells": [
  {
   "cell_type": "code",
   "execution_count": 2,
   "metadata": {},
   "outputs": [],
   "source": [
    "\n",
    "import time\n",
    "import os\n",
    "import requests\n",
    "import re\n",
    "import logging\n",
    "from dataclasses import dataclass, field\n",
    "import pandas as pd\n",
    "from bs4 import BeautifulSoup\n",
    "from selenium import webdriver\n",
    "from selenium.webdriver.common.keys import Keys\n",
    "from selenium.webdriver.support import expected_conditions as EC\n",
    "from selenium.webdriver.common.by import By\n",
    "from selenium.webdriver.support.wait import WebDriverWait\n",
    "from selenium.webdriver.firefox.options import Options\n",
    "from fake_useragent import UserAgent\n",
    "from random import randint\n",
    "import pandas as pd\n",
    "import numpy as np\n",
    "\n",
    "#pip install requests pandas openpyxl selenium=3.14 fake_useragent bs4\n",
    "logging.basicConfig(format='%(levelname)s:%(message)s', level=logging.INFO)\n",
    "\n",
    "\n"
   ]
  },
  {
   "cell_type": "code",
   "execution_count": 18,
   "metadata": {},
   "outputs": [],
   "source": [
    "url = 'https://www.aldarest.sa/product/%d9%88%d8%b1%d9%82-%d8%ac%d8%af%d8%b1%d8%a7%d9%86-%d8%a3%d9%84%d9%85%d8%a7%d9%86%d9%8a-%d8%af%d9%8a%d8%aa%d8%b1-%d8%a8%d9%88%d9%87%d9%84%d9%8a%d9%8605532-30/'"
   ]
  },
  {
   "cell_type": "code",
   "execution_count": 19,
   "metadata": {},
   "outputs": [],
   "source": [
    "headers = {'User-Agent': 'Mozilla/5.0 (Macintosh; Intel Mac OS X 10_10_1) AppleWebKit/537.36 (KHTML, like Gecko) Chrome/39.0.2171.95 Safari/537.36'}\n",
    "cookies = {'session': '134-8225175-0355220'}\n",
    "r = requests.get(url, headers=headers, cookies=cookies)\n",
    "soup = BeautifulSoup(r.content, \"html.parser\")"
   ]
  },
  {
   "cell_type": "code",
   "execution_count": 24,
   "metadata": {},
   "outputs": [
    {
     "data": {
      "text/plain": [
       "'ورق جدران ألماني ديتر بوهلين05532/30\\u200c\\u200c'"
      ]
     },
     "execution_count": 24,
     "metadata": {},
     "output_type": "execute_result"
    }
   ],
   "source": [
    "sku = soup.find('span', {'sku'}).text.strip()\n",
    "name = soup.find('h1', {'class': 'product_title'}).text.strip()\n",
    "price = soup.find('del').find('span', {'class': 'woocommerce-Price-amount'}).text.strip()\n",
    "special_price = soup.find('span', {'class': 'special-price'}).text.strip()\n",
    "description = soup.find('div', {'class': 'woocommerce-product-details__short-description'}).text.strip()\n",
    "images = soup.find('figure', {'class': 'woocommerce-product-gallery__wrapper'}).find_all('img')\n",
    "list_images = [img['src'].replace('-100x100', '') for img in images]\n",
    "base_image = list_images[0]\n",
    "add_images = ','.join(list_images[1: ])\n",
    "\n",
    "description"
   ]
  },
  {
   "cell_type": "code",
   "execution_count": 27,
   "metadata": {},
   "outputs": [
    {
     "data": {
      "text/plain": [
       "'DI05532-30'"
      ]
     },
     "execution_count": 27,
     "metadata": {},
     "output_type": "execute_result"
    }
   ],
   "source": [
    "sku = soup.find('span', {'sku'}).text.strip()\n",
    "sku"
   ]
  },
  {
   "cell_type": "code",
   "execution_count": null,
   "metadata": {},
   "outputs": [],
   "source": []
  },
  {
   "cell_type": "code",
   "execution_count": null,
   "metadata": {},
   "outputs": [],
   "source": []
  },
  {
   "cell_type": "code",
   "execution_count": null,
   "metadata": {},
   "outputs": [],
   "source": []
  }
 ],
 "metadata": {
  "kernelspec": {
   "display_name": "Python 3.9.12 ('venv': venv)",
   "language": "python",
   "name": "python3"
  },
  "language_info": {
   "codemirror_mode": {
    "name": "ipython",
    "version": 3
   },
   "file_extension": ".py",
   "mimetype": "text/x-python",
   "name": "python",
   "nbconvert_exporter": "python",
   "pygments_lexer": "ipython3",
   "version": "3.9.12"
  },
  "orig_nbformat": 4,
  "vscode": {
   "interpreter": {
    "hash": "cdffce183d4072eda6b3f67c171a4ef4dd3b86b1ce52b7d3f48431596e8268c2"
   }
  }
 },
 "nbformat": 4,
 "nbformat_minor": 2
}
