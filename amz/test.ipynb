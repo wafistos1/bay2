{
 "cells": [
  {
   "cell_type": "code",
   "execution_count": 1,
   "metadata": {},
   "outputs": [],
   "source": [
    "#imports here\n",
    "from selenium import webdriver\n",
    "from selenium.webdriver.common.keys import Keys\n",
    "from selenium.webdriver.support import expected_conditions as EC\n",
    "from selenium.webdriver.common.by import By\n",
    "from selenium.webdriver.support.wait import WebDriverWait\n",
    "from selenium.webdriver.firefox.options import Options\n",
    "import time\n",
    "import os\n",
    "from fake_useragent import UserAgent\n",
    "from random import randint\n",
    "import pandas as pd\n",
    "import numpy as np\n",
    "import re\n",
    "from datetime import datetime\n",
    "from datetime import timedelta\n",
    "from bs4 import BeautifulSoup\n",
    "import requests"
   ]
  },
  {
   "cell_type": "code",
   "execution_count": null,
   "metadata": {},
   "outputs": [],
   "source": [
    "options = Options()\n",
    "ua = UserAgent()\n",
    "userAgent = ua.random\n",
    "print(userAgent)\n",
    "options.add_argument(f'user-agent={userAgent}')\n",
    "#opti#     driver = webdriver.Firefox()ons.add_argument(\"--headless\")\n",
    "driver = webdriver.Firefox(firefox_options=options)\n",
    "driver.get(urls[0]['url'])\n",
    "r = driver.find_element_by_tag_name('body').get_attribute('innerHTML')\n",
    "soup = BeautifulSoup(r, \"html.parser\")"
   ]
  },
  {
   "cell_type": "code",
   "execution_count": 2,
   "metadata": {},
   "outputs": [],
   "source": [
    "url  = 'https://www.amazon.sa/s?k=Beauty+land+gardens&ref=bl_dp_s_web_0'"
   ]
  },
  {
   "cell_type": "code",
   "execution_count": 33,
   "metadata": {},
   "outputs": [],
   "source": [
    "text2 = 'شجرة اضاءة، LT015'"
   ]
  },
  {
   "cell_type": "code",
   "execution_count": 37,
   "metadata": {},
   "outputs": [
    {
     "data": {
      "text/plain": [
       "'LT015'"
      ]
     },
     "execution_count": 37,
     "metadata": {},
     "output_type": "execute_result"
    }
   ],
   "source": [
    "text = 'وعاء نباتات ذاتي الري مصنوع من الياف زجاجية، PTF176'\n",
    "regex = re.compile(r'(?P<length>^P*)')\n",
    "r = re.compile(r\"([PL])(\\w+)\")\n",
    "p = re.findall(r, text2)\n",
    "p[0][0] + p[0][1]"
   ]
  },
  {
   "cell_type": "code",
   "execution_count": null,
   "metadata": {},
   "outputs": [],
   "source": [
    "options = Options()\n",
    "ua = UserAgent()\n",
    "userAgent = ua.random\n",
    "print(userAgent)\n",
    "options.add_argument(f'user-agent={userAgent}')\n",
    "#opti#     driver = webdriver.Firefox()ons.add_argument(\"--headless\")\n",
    "driver = webdriver.Firefox(firefox_options=options)\n",
    "driver.get(url)\n",
    "r = driver.find_element_by_tag_name('body').get_attribute('innerHTML')\n",
    "soup = BeautifulSoup(r, \"html.parser\")"
   ]
  },
  {
   "cell_type": "code",
   "execution_count": 19,
   "metadata": {},
   "outputs": [],
   "source": [
    "r = driver.find_element_by_tag_name('body').get_attribute('innerHTML')\n",
    "soup = BeautifulSoup(r, \"html.parser\")"
   ]
  },
  {
   "cell_type": "code",
   "execution_count": 3,
   "metadata": {},
   "outputs": [],
   "source": [
    "def return_ele(name, soup):\n",
    "    try:\n",
    "        return soup.find('span', text=re.compile(name)).next_element.next_element.next_element.next_element.text.strip()\n",
    "    except:\n",
    "        return ''\n",
    "    "
   ]
  },
  {
   "cell_type": "code",
   "execution_count": 89,
   "metadata": {},
   "outputs": [
    {
     "data": {
      "text/plain": [
       "('كوفي', 'فايبر', 'بيوتي لاند جاردنز')"
      ]
     },
     "execution_count": 89,
     "metadata": {},
     "output_type": "execute_result"
    }
   ],
   "source": [
    "free_colors = return_ele('اللون', soup)\n",
    "raw_materials = return_ele('المادة', soup)\n",
    "brand = return_ele('العلامة التجارية', soup)\n",
    "free_colors, raw_materials, brand"
   ]
  },
  {
   "cell_type": "code",
   "execution_count": null,
   "metadata": {},
   "outputs": [],
   "source": [
    "def return_ele(name, soup):\n",
    "    try:\n",
    "        return soup.find('span', text=re.compile(name)).next_element.next_element.next_element.next_element.text.strip()\n",
    "    except:\n",
    "        return ''\n",
    "    \n",
    "\n",
    "\n",
    "\n",
    "urls = pd.read_excel('amz_update_url.xlsx')\n",
    "list_urls = []\n",
    "\n",
    "for indx, row in urls.iterrows():\n",
    "    list_urls.append(\n",
    "        {'url': row['url'], 'cat1': row['cat1'], 'cat2': row['cat2'], 'cat3': row['cat3']},\n",
    "    )\n",
    "\n",
    "df = pd.read_excel('amz_product_model.xlsx')\n",
    "\n",
    "for i, url1 in enumerate(list_urls):\n",
    "    print('Count: ', i)\n",
    "    url = url1['url']\n",
    "    print('URL: ', url)\n",
    "    userAgent = ua.random\n",
    "    headers = {'User-Agent': userAgent}\n",
    "    cookies = {'session': '134-8225175-0355220'+ str(i)}\n",
    "    time.sleep(1)\n",
    "    r = requests.get(url, headers=headers, cookies=cookies)\n",
    "    time.sleep(3)\n",
    "    soup = BeautifulSoup(r.text, \"html.parser\")\n",
    "\n",
    "    try:\n",
    "        name = soup.find('span', {'id': 'productTitle'}).text.strip()\n",
    "    except:\n",
    "        headers = {'User-Agent': userAgent}\n",
    "        cookies = {'session': '134-8225175-0355220'+ str(i)}\n",
    "        time.sleep(3)\n",
    "        r = requests.get(url, headers=headers, cookies=cookies)\n",
    "        time.sleep(1)\n",
    "        soup = BeautifulSoup(r.text, \"html.parser\")\n",
    "        name = soup.find('span', {'id': 'productTitle'}).text.strip()\n",
    "\n",
    "    try:\n",
    "        price1 = soup.find('span', {'class': 'a-price-whole'}).text.strip().split('.')[0]\n",
    "    except:\n",
    "        continue\n",
    "    price2 = soup.find('span', {'class': 'a-price-fraction'}).text.strip()\n",
    "    price = price1 + '.'+  price2\n",
    "    free_colors = return_ele('اللون', soup)\n",
    "    raw_materials = return_ele('المادة', soup)\n",
    "    brand = return_ele('العلامة التجارية', soup)\n",
    "    style = return_ele('النمط', soup)\n",
    "    included_ingredients = return_ele('المكونات المشمولة', soup)\n",
    "    free_colors1 = return_ele('نوع اللمسة النهائية', soup)\n",
    "    try:\n",
    "        product_details = soup.find('table', {'id': 'productDetails_techSpec_section_1'}).text.strip()\n",
    "    except:\n",
    "        product_details = ''\n",
    "\n",
    "    is_in_stock = soup.find('div', {'id': 'availability'}).find('span').text.strip()\n",
    "\n",
    "    try:\n",
    "        description = soup.find('div', {'id': 'featurebullets_feature_div'}).text.strip()\n",
    "    except AttributeError:\n",
    "        description = ''\n",
    "\n",
    "    try:\n",
    "        images = soup.find('div', {'id': 'altImages'}).find_all('img', )\n",
    "        len(images)\n",
    "    except AttributeError:\n",
    "        continue\n",
    "\n",
    "    list_images = []\n",
    "    for img in images[:-1]:\n",
    "        # print(img['src'].split('_'))\n",
    "        list_images.append(''.join([img['src'].split('_')[0], img['src'].split('_')[-1].replace('.', '')] ))\n",
    "\n",
    "    base_image = list_images[0]\n",
    "    add_images = ','.join(list_images[1:])\n",
    "    data = {\n",
    "        'name': name,\n",
    "        'link_url': url,\n",
    "        'price': price,\n",
    "        'free_colors': free_colors,\n",
    "        'raw_materials': raw_materials,\n",
    "        'brand': brand,\n",
    "        'style': style,\n",
    "        'included_ingredients': included_ingredients,\n",
    "        'free_colors1': free_colors1,\n",
    "        'product_details': product_details,\n",
    "        'is_in_stock': is_in_stock,\n",
    "        'description': description,\n",
    "        'base_image': base_image,\n",
    "        'add_images': add_images,\n",
    "    }\n",
    "    \n",
    "    df1 = pd.DataFrame([data])\n",
    "    df = pd.concat([df, df1], ignore_index=True)\n",
    "    df.to_excel('amz_update_products01.xlsx')"
   ]
  },
  {
   "cell_type": "code",
   "execution_count": 12,
   "metadata": {},
   "outputs": [],
   "source": [
    "df = None\n",
    "df1 = pd.read_excel('amz_update_products02.xlsx')\n",
    "df2 = pd.read_excel('amz_update_products01.xlsx')"
   ]
  },
  {
   "cell_type": "code",
   "execution_count": 13,
   "metadata": {},
   "outputs": [],
   "source": [
    "df =  pd.concat([df1, df2], ignore_index=True)"
   ]
  },
  {
   "cell_type": "code",
   "execution_count": 14,
   "metadata": {},
   "outputs": [],
   "source": [
    "df.to_excel('amz_update_pro2.xlsx')"
   ]
  },
  {
   "cell_type": "code",
   "execution_count": 29,
   "metadata": {},
   "outputs": [],
   "source": [
    "def extract(name, soup):\n",
    "    try:\n",
    "        return soup.find('th', text=re.compile(name)).next_element.next_element.next_element.text.strip()\n",
    "    except:\n",
    "        return ''"
   ]
  },
  {
   "cell_type": "code",
   "execution_count": 33,
   "metadata": {},
   "outputs": [
    {
     "data": {
      "text/plain": [
       "('\\u200eSelf Watering',\n",
       " '\\u200e44 x 24 x 24 سم; 3.85 كيلو غرام',\n",
       " '\\u200eمستشعر مياه، أنبوب قياس الماء')"
      ]
     },
     "execution_count": 33,
     "metadata": {},
     "output_type": "execute_result"
    }
   ],
   "source": [
    "spec = extract('الخصائص', soup)\n",
    "products_size = extract('أبعاد الشحنة', soup)\n",
    "included_ingredients = extract('المكونات المشمولة', soup)\n",
    "\n",
    "spec, products_size, included_ingredients"
   ]
  },
  {
   "cell_type": "code",
   "execution_count": null,
   "metadata": {},
   "outputs": [],
   "source": []
  },
  {
   "cell_type": "code",
   "execution_count": null,
   "metadata": {},
   "outputs": [],
   "source": []
  },
  {
   "cell_type": "code",
   "execution_count": 22,
   "metadata": {},
   "outputs": [
    {
     "data": {
      "text/plain": [
       "<div class=\"a-section\" id=\"prodDetails\"> <h2>\n",
       "                          معلومات المنتج </h2>\n",
       "<div class=\"a-row a-spacing-top-base\"> <div class=\"a-column a-span6\"> <div class=\"a-row a-spacing-base\"> <div class=\"a-row a-expander-container a-expander-extend-container\"> <div class=\"a-row\"> <div class=\"a-column a-span6\"> <h1 class=\"a-size-medium a-spacing-small\">التفاصيل التقنية</h1> </div> </div> <div aria-expanded=\"true\" class=\"a-expander-content a-expander-extend-content\"> <div class=\"a-row a-expander-container a-expander-inline-container\"> <div aria-expanded=\"true\" class=\"a-expander-content a-expander-section-content a-section-expander-inner\"> <table class=\"a-keyvalue prodDetTable\" id=\"productDetails_techSpec_section_1\" role=\"presentation\"> <tbody><tr> <th class=\"a-color-secondary a-size-base prodDetSectionEntry\"> اللون </th> <td class=\"a-size-base prodDetAttrValue\">\n",
       "                ‎أسود </td> </tr> <tr> <th class=\"a-color-secondary a-size-base prodDetSectionEntry\"> الحجم </th> <td class=\"a-size-base prodDetAttrValue\">\n",
       "                ‎Large </td> </tr> <tr> <th class=\"a-color-secondary a-size-base prodDetSectionEntry\"> نوع المادة </th> <td class=\"a-size-base prodDetAttrValue\">\n",
       "                ‎الياف </td> </tr> <tr> <th class=\"a-color-secondary a-size-base prodDetSectionEntry\"> الخصائص </th> <td class=\"a-size-base prodDetAttrValue\">\n",
       "                ‎Self Watering </td> </tr> <tr> <th class=\"a-color-secondary a-size-base prodDetSectionEntry\"> المكونات المشمولة </th> <td class=\"a-size-base prodDetAttrValue\">\n",
       "                ‎مستشعر مياه، أنبوب قياس الماء </td> </tr> <tr> <th class=\"a-color-secondary a-size-base prodDetSectionEntry\"> العلامة التجارية </th> <td class=\"a-size-base prodDetAttrValue\">\n",
       "                ‎بيوتي لاند جاردنز </td> </tr> <tr> <th class=\"a-color-secondary a-size-base prodDetSectionEntry\"> القسم </th> <td class=\"a-size-base prodDetAttrValue\">\n",
       "                ‎مناسب للجنسين </td> </tr> <tr> <th class=\"a-color-secondary a-size-base prodDetSectionEntry\"> الشركة المصنعة </th> <td class=\"a-size-base prodDetAttrValue\">\n",
       "                ‎BEAUTY LAND </td> </tr> <tr> <th class=\"a-color-secondary a-size-base prodDetSectionEntry\"> أبعاد الشحنة </th> <td class=\"a-size-base prodDetAttrValue\">\n",
       "                ‎44 x 24 x 24 سم; 3.85 كيلو غرام </td> </tr> <tr> <th class=\"a-color-secondary a-size-base prodDetSectionEntry\"> ASIN </th> <td class=\"a-size-base prodDetAttrValue\">\n",
       "                ‎B091MV8693 </td> </tr> </tbody></table> </div> </div> </div> </div> </div> <div class=\"a-row a-spacing-base\"> </div> <div class=\"a-row\"> </div> </div> <div class=\"a-column a-span6 a-span-last\"> <div class=\"a-row a-spacing-base\"> <div class=\"a-section\" id=\"productDetails_db_sections\"> <h1 class=\"a-size-medium a-spacing-small secHeader\">معلومة إضافية</h1> <div class=\"a-section table-padding\"> <table class=\"a-keyvalue prodDetTable\" id=\"productDetails_detailBullets_sections1\" role=\"presentation\"> <tbody><tr> <th class=\"a-color-secondary a-size-base prodDetSectionEntry\"> تاريخ توفر أول منتج </th> <td class=\"a-size-base prodDetAttrValue\"> 2021 أبريل 3 </td> </tr> <tr> <th class=\"a-color-secondary a-size-base prodDetSectionEntry\"> تصنيف الأفضل مبيعاً </th> <td> <span> <span>#24,575 في الفناء والحديقة والبستان (<a href=\"/gp/bestsellers/garden/ref=pd_zg_ts_garden\">شاهد أفضل 100 في الفناء والحديقة والبستان</a>)</span> <br/> <span>#609 في <a href=\"/gp/bestsellers/garden/16973397031/ref=pd_zg_hrsr_garden\">أواني الزهور</a></span> <br/> </span> </td> </tr> </tbody></table> </div> </div> </div> <div class=\"a-row a-spacing-base\"> <div class=\"a-section\"> <h1 class=\"a-size-medium a-spacing-small secHeader\"> الكفالة والدعم </h1> <div class=\"a-section table-padding\"> <span>سياسة إرجاع Amazon.sa</span>:<span class=\"a-letter-space\"></span><span>يحق لك دائماً ارجاع أغلب السلع خلال 15-30 يوم من تاريخ الشراء. للاستثناءات والشروط، راجع <a href=\"/gp/help/customer/display.html/ref=orc_hp_s_retpol?ie=UTF8&amp;nodeId=GKM69DUUYKQWKWX7\">تفاصيل الإرجاع</a>.</span><table class=\"a-keyvalue prodDetTable\" id=\"productDetails_warranty_support_sections\" role=\"presentation\"> </table> </div> </div> </div> <div class=\"a-row\"> </div> </div> </div> </div>"
      ]
     },
     "execution_count": 22,
     "metadata": {},
     "output_type": "execute_result"
    }
   ],
   "source": [
    "soup.find('div', {'id': 'prodDetails'})"
   ]
  }
 ],
 "metadata": {
  "kernelspec": {
   "display_name": "Python 3.9.12 ('base')",
   "language": "python",
   "name": "python3"
  },
  "language_info": {
   "codemirror_mode": {
    "name": "ipython",
    "version": 3
   },
   "file_extension": ".py",
   "mimetype": "text/x-python",
   "name": "python",
   "nbconvert_exporter": "python",
   "pygments_lexer": "ipython3",
   "version": "3.9.12"
  },
  "orig_nbformat": 4,
  "vscode": {
   "interpreter": {
    "hash": "535ace16f3fe14126ec717334842449a27987216ea3472ab57e610413bd9ed1f"
   }
  }
 },
 "nbformat": 4,
 "nbformat_minor": 2
}
